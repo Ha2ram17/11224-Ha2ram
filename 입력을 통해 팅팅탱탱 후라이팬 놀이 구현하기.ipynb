{
  "nbformat": 4,
  "nbformat_minor": 0,
  "metadata": {
    "colab": {
      "provenance": [],
      "authorship_tag": "ABX9TyMIgbCNe08KBzEUrTiEroDS",
      "include_colab_link": true
    },
    "kernelspec": {
      "name": "python3",
      "display_name": "Python 3"
    },
    "language_info": {
      "name": "python"
    }
  },
  "cells": [
    {
      "cell_type": "markdown",
      "metadata": {
        "id": "view-in-github",
        "colab_type": "text"
      },
      "source": [
        "<a href=\"https://colab.research.google.com/github/Ha2ram17/Ha2ram-Python/blob/main/%EC%9E%85%EB%A0%A5%EC%9D%84%20%ED%86%B5%ED%95%B4%20%ED%8C%85%ED%8C%85%ED%83%B1%ED%83%B1%20%ED%9B%84%EB%9D%BC%EC%9D%B4%ED%8C%AC%20%EB%86%80%EC%9D%B4%20%EA%B5%AC%ED%98%84%ED%95%98%EA%B8%B0.ipynb\" target=\"_parent\"><img src=\"https://colab.research.google.com/assets/colab-badge.svg\" alt=\"Open In Colab\"/></a>"
      ]
    },
    {
      "cell_type": "code",
      "execution_count": null,
      "metadata": {
        "id": "vwhotWGLxVqZ"
      },
      "outputs": [],
      "source": [
        "print('팅 팅팅팅 탱 탱탱탱 팅팅 탱탕 후라이팬 놀이!')\n",
        "for i in range(5):\n",
        "  name = str(input(\"이름을 입력해주세요. : \"))\n",
        "  cnt = int(input(\"횟수를 입력해주세요. : \"))\n",
        "  print(name*cnt)"
      ]
    }
  ]
}