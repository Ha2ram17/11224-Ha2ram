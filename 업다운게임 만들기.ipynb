{
  "nbformat": 4,
  "nbformat_minor": 0,
  "metadata": {
    "colab": {
      "provenance": [],
      "authorship_tag": "ABX9TyNsSvmxFI7AWgElWRO5AoGq",
      "include_colab_link": true
    },
    "kernelspec": {
      "name": "python3",
      "display_name": "Python 3"
    },
    "language_info": {
      "name": "python"
    }
  },
  "cells": [
    {
      "cell_type": "markdown",
      "metadata": {
        "id": "view-in-github",
        "colab_type": "text"
      },
      "source": [
        "<a href=\"https://colab.research.google.com/github/Ha2ram17/Ha2ram-Python/blob/main/%EC%97%85%EB%8B%A4%EC%9A%B4%EA%B2%8C%EC%9E%84%20%EB%A7%8C%EB%93%A4%EA%B8%B0.ipynb\" target=\"_parent\"><img src=\"https://colab.research.google.com/assets/colab-badge.svg\" alt=\"Open In Colab\"/></a>"
      ]
    },
    {
      "cell_type": "code",
      "execution_count": null,
      "metadata": {
        "colab": {
          "base_uri": "https://localhost:8080/"
        },
        "id": "mu1wQnNkEKtg",
        "outputId": "adb979e0-fb47-404c-9965-ea876c758497"
      },
      "outputs": [
        {
          "output_type": "stream",
          "name": "stdout",
          "text": [
            "입력해라 : 1\n",
            "-------------\n",
            "1\n",
            "제곱:1\n",
            "-------------\n"
          ]
        }
      ],
      "source": [
        "a=int(input(\"입력해라 : \"))\n",
        "for i in range(1,a+1):\n",
        "  print(\"-------------\")\n",
        "  print(i)\n",
        "  i*=i\n",
        "  print(\"제곱:{}\".format(i))\n",
        "print(\"-------------\")"
      ]
    },
    {
      "cell_type": "code",
      "source": [
        "i=1\n",
        "while(i<=100):\n",
        "  if i%8==0 and i%12!=0:\n",
        "    print(i)\n",
        "  i+=1"
      ],
      "metadata": {
        "colab": {
          "base_uri": "https://localhost:8080/"
        },
        "id": "XjGr2XZPMRYe",
        "outputId": "8e5d1a15-0779-4f7d-ad08-b5eb0a02f367"
      },
      "execution_count": 46,
      "outputs": [
        {
          "output_type": "stream",
          "name": "stdout",
          "text": [
            "8\n",
            "16\n",
            "32\n",
            "40\n",
            "56\n",
            "64\n",
            "80\n",
            "88\n"
          ]
        }
      ]
    },
    {
      "cell_type": "code",
      "source": [
        "import random\n",
        "rn = random.randrange(1,101,1)\n",
        "count=0\n",
        "while(i==0):\n",
        " play=int(input(\"[1~100까지의 숫자를 맞춰보세요!] : \"))\n",
        " keke=rn-play\n",
        " if keke>0:\n",
        "   print(\"Up!\")\n",
        "   count+=1\n",
        " elif keke<0:\n",
        "   print(\"Down!\")\n",
        "   count+=1\n",
        " elif play==rn:\n",
        "   print(\"정답입니다!\")\n",
        "   count+=1\n",
        "   break\n",
        "print(\"당신이 시도한 횟수는 {}번입니다.\")"
      ],
      "metadata": {
        "colab": {
          "base_uri": "https://localhost:8080/"
        },
        "id": "cQgTMf5vQmaW",
        "outputId": "da12b187-4c12-41ca-ca80-068c7ab6fdf9"
      },
      "execution_count": 52,
      "outputs": [
        {
          "output_type": "stream",
          "name": "stdout",
          "text": [
            "[1~100까지의 숫자를 맞춰보세요!] : 15\n",
            "Up!\n",
            "[1~100까지의 숫자를 맞춰보세요!] : 43\n",
            "Up!\n",
            "[1~100까지의 숫자를 맞춰보세요!] : 65\n",
            "Up!\n",
            "[1~100까지의 숫자를 맞춰보세요!] : 768\n",
            "Down!\n",
            "[1~100까지의 숫자를 맞춰보세요!] : 78\n",
            "정답입니다!\n",
            "당신이 시도한 횟수는 {}번입니다.\n"
          ]
        }
      ]
    }
  ]
}