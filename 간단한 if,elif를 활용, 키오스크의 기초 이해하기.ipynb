{
  "nbformat": 4,
  "nbformat_minor": 0,
  "metadata": {
    "colab": {
      "provenance": [],
      "authorship_tag": "ABX9TyOyEfGDmtS+djc+/NbG6e9Q",
      "include_colab_link": true
    },
    "kernelspec": {
      "name": "python3",
      "display_name": "Python 3"
    },
    "language_info": {
      "name": "python"
    }
  },
  "cells": [
    {
      "cell_type": "markdown",
      "metadata": {
        "id": "view-in-github",
        "colab_type": "text"
      },
      "source": [
        "<a href=\"https://colab.research.google.com/github/Ha2ram17/Ha2ram-Python/blob/main/%EA%B0%84%EB%8B%A8%ED%95%9C%20if%2Celif%EB%A5%BC%20%ED%99%9C%EC%9A%A9%2C%20%ED%82%A4%EC%98%A4%EC%8A%A4%ED%81%AC%EC%9D%98%20%EA%B8%B0%EC%B4%88%20%EC%9D%B4%ED%95%B4%ED%95%98%EA%B8%B0.ipynb\" target=\"_parent\"><img src=\"https://colab.research.google.com/assets/colab-badge.svg\" alt=\"Open In Colab\"/></a>"
      ]
    },
    {
      "cell_type": "code",
      "execution_count": null,
      "metadata": {
        "id": "hvrxKJj66MUU"
      },
      "outputs": [],
      "source": [
        "a = str(input(\"김밥 혹은 라면을 입력해주세요. : \"))\n",
        "if a == \"김밥\":\n",
        "  print(\"야채김밥 -2500원-, 참치김밥 -3500원-\")\n",
        "elif a == \"라면\":\n",
        "  print(\"기본라면 -3500원-, 떡라면 -4000원-, 만두라면 -4000원-\")\n",
        "else:\n",
        "  print(\"올바르게 다시 입력해주세요.\")"
      ]
    }
  ]
}