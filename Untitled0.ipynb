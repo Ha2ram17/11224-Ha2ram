{
  "nbformat": 4,
  "nbformat_minor": 0,
  "metadata": {
    "colab": {
      "provenance": [],
      "authorship_tag": "ABX9TyMRCNN38s3iOI0TblZko2gH",
      "include_colab_link": true
    },
    "kernelspec": {
      "name": "python3",
      "display_name": "Python 3"
    },
    "language_info": {
      "name": "python"
    }
  },
  "cells": [
    {
      "cell_type": "markdown",
      "metadata": {
        "id": "view-in-github",
        "colab_type": "text"
      },
      "source": [
        "<a href=\"https://colab.research.google.com/github/Ha2ram17/11224-Ha2ram/blob/main/Untitled0.ipynb\" target=\"_parent\"><img src=\"https://colab.research.google.com/assets/colab-badge.svg\" alt=\"Open In Colab\"/></a>"
      ]
    },
    {
      "cell_type": "code",
      "source": [
        "from warnings import resetwarnings\n",
        "age = int(input(\"나이를 입력해주세요. : \"))\n",
        "if(age>=20) :\n",
        "  print(\"성인!\")\n",
        "else :\n",
        "  print(\"미성년자!\")\n",
        "print(\"나이는\",age,\"살입니다.\")"
      ],
      "metadata": {
        "id": "5yhBB1zKxw51"
      },
      "execution_count": null,
      "outputs": []
    }
  ]
}