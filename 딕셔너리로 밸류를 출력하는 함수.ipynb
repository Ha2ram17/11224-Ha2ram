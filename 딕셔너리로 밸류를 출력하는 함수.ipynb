{
  "nbformat": 4,
  "nbformat_minor": 0,
  "metadata": {
    "colab": {
      "provenance": [],
      "authorship_tag": "ABX9TyNbM1eTw8vpXXaIoM08Nxxw",
      "include_colab_link": true
    },
    "kernelspec": {
      "name": "python3",
      "display_name": "Python 3"
    },
    "language_info": {
      "name": "python"
    }
  },
  "cells": [
    {
      "cell_type": "markdown",
      "metadata": {
        "id": "view-in-github",
        "colab_type": "text"
      },
      "source": [
        "<a href=\"https://colab.research.google.com/github/Ha2ram17/11224-Ha2ram/blob/main/%EB%94%95%EC%85%94%EB%84%88%EB%A6%AC%EB%A1%9C%20%EB%B0%B8%EB%A5%98%EB%A5%BC%20%EC%B6%9C%EB%A0%A5%ED%95%98%EB%8A%94%20%ED%95%A8%EC%88%98.ipynb\" target=\"_parent\"><img src=\"https://colab.research.google.com/assets/colab-badge.svg\" alt=\"Open In Colab\"/></a>"
      ]
    },
    {
      "cell_type": "code",
      "execution_count": 3,
      "metadata": {
        "colab": {
          "base_uri": "https://localhost:8080/"
        },
        "id": "jjQDrXx_8DXj",
        "outputId": "03e1142a-cb29-4d1c-9f0a-aac8c9b52028"
      },
      "outputs": [
        {
          "output_type": "execute_result",
          "data": {
            "text/plain": [
              "dict_values(['200원', '800원', '500원', '300원'])"
            ]
          },
          "metadata": {},
          "execution_count": 3
        }
      ],
      "source": [
        "mun = {\"연필\":\"200원\",\"펜\":\"800원\",\"지우개\":\"500원\",\"자\":\"300원\"}\n",
        "mun.values()"
      ]
    }
  ]
}