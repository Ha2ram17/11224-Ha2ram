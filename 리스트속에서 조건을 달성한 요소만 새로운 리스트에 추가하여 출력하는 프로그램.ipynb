{
  "nbformat": 4,
  "nbformat_minor": 0,
  "metadata": {
    "colab": {
      "provenance": [],
      "authorship_tag": "ABX9TyPSJK2Xs47jI8TDDgUi/94Q",
      "include_colab_link": true
    },
    "kernelspec": {
      "name": "python3",
      "display_name": "Python 3"
    },
    "language_info": {
      "name": "python"
    }
  },
  "cells": [
    {
      "cell_type": "markdown",
      "metadata": {
        "id": "view-in-github",
        "colab_type": "text"
      },
      "source": [
        "<a href=\"https://colab.research.google.com/github/Ha2ram17/11224-Ha2ram/blob/main/%EB%A6%AC%EC%8A%A4%ED%8A%B8%EC%86%8D%EC%97%90%EC%84%9C%20%EC%A1%B0%EA%B1%B4%EC%9D%84%20%EB%8B%AC%EC%84%B1%ED%95%9C%20%EC%9A%94%EC%86%8C%EB%A7%8C%20%EC%83%88%EB%A1%9C%EC%9A%B4%20%EB%A6%AC%EC%8A%A4%ED%8A%B8%EC%97%90%20%EC%B6%94%EA%B0%80%ED%95%98%EC%97%AC%20%EC%B6%9C%EB%A0%A5%ED%95%98%EB%8A%94%20%ED%94%84%EB%A1%9C%EA%B7%B8%EB%9E%A8.ipynb\" target=\"_parent\"><img src=\"https://colab.research.google.com/assets/colab-badge.svg\" alt=\"Open In Colab\"/></a>"
      ]
    },
    {
      "cell_type": "code",
      "execution_count": 7,
      "metadata": {
        "colab": {
          "base_uri": "https://localhost:8080/"
        },
        "id": "KTRrrzFi-64u",
        "outputId": "a6b11393-b13c-42c8-a4a7-88daf8c18af3"
      },
      "outputs": [
        {
          "output_type": "stream",
          "name": "stdout",
          "text": [
            "[180, 170, 199, 182, 172, 177]\n"
          ]
        }
      ],
      "source": [
        "stdt = [180,170,164,199,182,172,177]\n",
        "stdt2 = []\n",
        "for i in stdt:\n",
        "  if i >= 170:\n",
        "    stdt2.append(i)\n",
        "print(stdt2)"
      ]
    }
  ]
}