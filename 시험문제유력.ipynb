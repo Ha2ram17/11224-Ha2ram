{
  "nbformat": 4,
  "nbformat_minor": 0,
  "metadata": {
    "colab": {
      "provenance": [],
      "authorship_tag": "ABX9TyM9n2krFdCwE+Xvqk3S+vXW",
      "include_colab_link": true
    },
    "kernelspec": {
      "name": "python3",
      "display_name": "Python 3"
    },
    "language_info": {
      "name": "python"
    }
  },
  "cells": [
    {
      "cell_type": "markdown",
      "metadata": {
        "id": "view-in-github",
        "colab_type": "text"
      },
      "source": [
        "<a href=\"https://colab.research.google.com/github/Ha2ram17/Ha2ram-Python/blob/main/%EC%8B%9C%ED%97%98%EB%AC%B8%EC%A0%9C%EC%9C%A0%EB%A0%A5.ipynb\" target=\"_parent\"><img src=\"https://colab.research.google.com/assets/colab-badge.svg\" alt=\"Open In Colab\"/></a>"
      ]
    },
    {
      "cell_type": "code",
      "source": [
        "a=[4,3,5,1,2]\n",
        "for i in range(len(a) -1,0,-1):\n",
        "  for j in range(i):\n",
        "    if a[j]>a[j+1]:\n",
        "      a[j],a[j+1]=a[j+1],a[j]\n",
        "      print(a)"
      ],
      "metadata": {
        "colab": {
          "base_uri": "https://localhost:8080/"
        },
        "id": "IxMYWwWSAgnJ",
        "outputId": "498e7229-c80e-458a-dd77-a0256bab637a"
      },
      "execution_count": 3,
      "outputs": [
        {
          "output_type": "stream",
          "name": "stdout",
          "text": [
            "[3, 4, 5, 1, 2]\n",
            "[3, 4, 1, 5, 2]\n",
            "[3, 4, 1, 2, 5]\n",
            "[3, 1, 4, 2, 5]\n",
            "[3, 1, 2, 4, 5]\n",
            "[1, 3, 2, 4, 5]\n",
            "[1, 2, 3, 4, 5]\n"
          ]
        }
      ]
    }
  ]
}