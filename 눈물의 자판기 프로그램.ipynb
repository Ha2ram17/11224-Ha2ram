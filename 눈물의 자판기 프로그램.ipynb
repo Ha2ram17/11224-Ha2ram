{
  "nbformat": 4,
  "nbformat_minor": 0,
  "metadata": {
    "colab": {
      "provenance": [],
      "authorship_tag": "ABX9TyM11wJ2RGjSMiYFwO/rz2bs",
      "include_colab_link": true
    },
    "kernelspec": {
      "name": "python3",
      "display_name": "Python 3"
    },
    "language_info": {
      "name": "python"
    }
  },
  "cells": [
    {
      "cell_type": "markdown",
      "metadata": {
        "id": "view-in-github",
        "colab_type": "text"
      },
      "source": [
        "<a href=\"https://colab.research.google.com/github/Ha2ram17/Ha2ram-Python/blob/main/%EB%88%88%EB%AC%BC%EC%9D%98%20%EC%9E%90%ED%8C%90%EA%B8%B0%20%ED%94%84%EB%A1%9C%EA%B7%B8%EB%9E%A8.ipynb\" target=\"_parent\"><img src=\"https://colab.research.google.com/assets/colab-badge.svg\" alt=\"Open In Colab\"/></a>"
      ]
    },
    {
      "cell_type": "code",
      "execution_count": 37,
      "metadata": {
        "colab": {
          "base_uri": "https://localhost:8080/",
          "height": 547
        },
        "id": "-_LRwh9MBiJM",
        "outputId": "70678371-bce7-4784-a1b3-1aaf0b33fffd"
      },
      "outputs": [
        {
          "output_type": "stream",
          "name": "stdout",
          "text": [
            "깍두기자판기를 이용해주셔서 감사합니다. 메뉴를 출력해드리겠습니다.\n",
            "메뉴와 가격을 출력합니다.\n",
            "{'코카콜라': 10, '코카콜라 제로': 10, '펩시콜라': 1700, '펩시콜라 제로': 1700, '울트라수퍼두퍼솔의눈': 20000, '지코': 500, '맥콜': 1500, '스프라이트': 2000}\n",
            "\n",
            "코카콜라를 몇 개 주문하시겠습니까? 주문하지 않으시겠다면 0개를 선택해주세요. 2\n",
            "현재 주문하신 이 음료수의 가격 합계는 20원입니다.\n",
            "코카콜라 제로를 몇 개 주문하시겠습니까? 주문하지 않으시겠다면 0개를 선택해주세요. 2\n",
            "현재 주문하신 이 음료수의 가격 합계는 0원입니다.\n"
          ]
        },
        {
          "output_type": "error",
          "ename": "KeyboardInterrupt",
          "evalue": "ignored",
          "traceback": [
            "\u001b[0;31m---------------------------------------------------------------------------\u001b[0m",
            "\u001b[0;31mKeyboardInterrupt\u001b[0m                         Traceback (most recent call last)",
            "\u001b[0;32m<ipython-input-37-1919291cf5a5>\u001b[0m in \u001b[0;36m<cell line: 96>\u001b[0;34m()\u001b[0m\n\u001b[1;32m     94\u001b[0m \u001b[0mcoke\u001b[0m\u001b[0;34m(\u001b[0m\u001b[0;34m)\u001b[0m\u001b[0;34m\u001b[0m\u001b[0;34m\u001b[0m\u001b[0m\n\u001b[1;32m     95\u001b[0m \u001b[0m코카콜라제로\u001b[0m\u001b[0;34m(\u001b[0m\u001b[0;34m)\u001b[0m\u001b[0;34m\u001b[0m\u001b[0;34m\u001b[0m\u001b[0m\n\u001b[0;32m---> 96\u001b[0;31m \u001b[0m펩시\u001b[0m\u001b[0;34m(\u001b[0m\u001b[0;34m)\u001b[0m\u001b[0;34m\u001b[0m\u001b[0;34m\u001b[0m\u001b[0m\n\u001b[0m\u001b[1;32m     97\u001b[0m \u001b[0m펩시제로\u001b[0m\u001b[0;34m(\u001b[0m\u001b[0;34m)\u001b[0m\u001b[0;34m\u001b[0m\u001b[0;34m\u001b[0m\u001b[0m\n\u001b[1;32m     98\u001b[0m \u001b[0m솔의눈\u001b[0m\u001b[0;34m(\u001b[0m\u001b[0;34m)\u001b[0m\u001b[0;34m\u001b[0m\u001b[0;34m\u001b[0m\u001b[0m\n",
            "\u001b[0;32m<ipython-input-37-1919291cf5a5>\u001b[0m in \u001b[0;36m펩시\u001b[0;34m()\u001b[0m\n\u001b[1;32m     27\u001b[0m \u001b[0;31m#-----------------------------\u001b[0m\u001b[0;34m\u001b[0m\u001b[0;34m\u001b[0m\u001b[0m\n\u001b[1;32m     28\u001b[0m \u001b[0;32mdef\u001b[0m \u001b[0m펩시\u001b[0m\u001b[0;34m(\u001b[0m\u001b[0;34m)\u001b[0m\u001b[0;34m:\u001b[0m\u001b[0;34m\u001b[0m\u001b[0;34m\u001b[0m\u001b[0m\n\u001b[0;32m---> 29\u001b[0;31m   \u001b[0m펩시1\u001b[0m\u001b[0;34m=\u001b[0m\u001b[0mint\u001b[0m\u001b[0;34m(\u001b[0m\u001b[0minput\u001b[0m\u001b[0;34m(\u001b[0m\u001b[0;34m\"펩시를 몇 개 주문하시겠습니까? 주문하지 않으시겠다면 0개를 선택해주세요. \"\u001b[0m\u001b[0;34m)\u001b[0m\u001b[0;34m)\u001b[0m\u001b[0;34m\u001b[0m\u001b[0;34m\u001b[0m\u001b[0m\n\u001b[0m\u001b[1;32m     30\u001b[0m   \u001b[0;32mif\u001b[0m\u001b[0;34m(\u001b[0m\u001b[0m펩시1\u001b[0m\u001b[0;34m>=\u001b[0m\u001b[0;36m1\u001b[0m\u001b[0;34m)\u001b[0m\u001b[0;34m:\u001b[0m\u001b[0;34m\u001b[0m\u001b[0;34m\u001b[0m\u001b[0m\n\u001b[1;32m     31\u001b[0m     \u001b[0m펩시_lastprice\u001b[0m\u001b[0;34m=\u001b[0m\u001b[0;36m0\u001b[0m\u001b[0;34m\u001b[0m\u001b[0;34m\u001b[0m\u001b[0m\n",
            "\u001b[0;32m/usr/local/lib/python3.10/dist-packages/ipykernel/kernelbase.py\u001b[0m in \u001b[0;36mraw_input\u001b[0;34m(self, prompt)\u001b[0m\n\u001b[1;32m    849\u001b[0m                 \u001b[0;34m\"raw_input was called, but this frontend does not support input requests.\"\u001b[0m\u001b[0;34m\u001b[0m\u001b[0;34m\u001b[0m\u001b[0m\n\u001b[1;32m    850\u001b[0m             )\n\u001b[0;32m--> 851\u001b[0;31m         return self._input_request(str(prompt),\n\u001b[0m\u001b[1;32m    852\u001b[0m             \u001b[0mself\u001b[0m\u001b[0;34m.\u001b[0m\u001b[0m_parent_ident\u001b[0m\u001b[0;34m,\u001b[0m\u001b[0;34m\u001b[0m\u001b[0;34m\u001b[0m\u001b[0m\n\u001b[1;32m    853\u001b[0m             \u001b[0mself\u001b[0m\u001b[0;34m.\u001b[0m\u001b[0m_parent_header\u001b[0m\u001b[0;34m,\u001b[0m\u001b[0;34m\u001b[0m\u001b[0;34m\u001b[0m\u001b[0m\n",
            "\u001b[0;32m/usr/local/lib/python3.10/dist-packages/ipykernel/kernelbase.py\u001b[0m in \u001b[0;36m_input_request\u001b[0;34m(self, prompt, ident, parent, password)\u001b[0m\n\u001b[1;32m    893\u001b[0m             \u001b[0;32mexcept\u001b[0m \u001b[0mKeyboardInterrupt\u001b[0m\u001b[0;34m:\u001b[0m\u001b[0;34m\u001b[0m\u001b[0;34m\u001b[0m\u001b[0m\n\u001b[1;32m    894\u001b[0m                 \u001b[0;31m# re-raise KeyboardInterrupt, to truncate traceback\u001b[0m\u001b[0;34m\u001b[0m\u001b[0;34m\u001b[0m\u001b[0m\n\u001b[0;32m--> 895\u001b[0;31m                 \u001b[0;32mraise\u001b[0m \u001b[0mKeyboardInterrupt\u001b[0m\u001b[0;34m(\u001b[0m\u001b[0;34m\"Interrupted by user\"\u001b[0m\u001b[0;34m)\u001b[0m \u001b[0;32mfrom\u001b[0m \u001b[0;32mNone\u001b[0m\u001b[0;34m\u001b[0m\u001b[0;34m\u001b[0m\u001b[0m\n\u001b[0m\u001b[1;32m    896\u001b[0m             \u001b[0;32mexcept\u001b[0m \u001b[0mException\u001b[0m \u001b[0;32mas\u001b[0m \u001b[0me\u001b[0m\u001b[0;34m:\u001b[0m\u001b[0;34m\u001b[0m\u001b[0;34m\u001b[0m\u001b[0m\n\u001b[1;32m    897\u001b[0m                 \u001b[0mself\u001b[0m\u001b[0;34m.\u001b[0m\u001b[0mlog\u001b[0m\u001b[0;34m.\u001b[0m\u001b[0mwarning\u001b[0m\u001b[0;34m(\u001b[0m\u001b[0;34m\"Invalid Message:\"\u001b[0m\u001b[0;34m,\u001b[0m \u001b[0mexc_info\u001b[0m\u001b[0;34m=\u001b[0m\u001b[0;32mTrue\u001b[0m\u001b[0;34m)\u001b[0m\u001b[0;34m\u001b[0m\u001b[0;34m\u001b[0m\u001b[0m\n",
            "\u001b[0;31mKeyboardInterrupt\u001b[0m: Interrupted by user"
          ]
        }
      ],
      "source": [
        "print(\"깍두기자판기를 이용해주셔서 감사합니다. 메뉴를 출력해드리겠습니다.\")\n",
        "menu1={\"코카콜라\":10,\"코카콜라 제로\":10,\"펩시콜라\":1700,\"펩시콜라 제로\":1700,\"울트라수퍼두퍼솔의눈\":20000,\"지코\":500,\"맥콜\":1500,\"스프라이트\":2000}\n",
        "price=0\n",
        "print(\"메뉴와 가격을 출력합니다.\")\n",
        "print(menu1)\n",
        "def coke():\n",
        "  coke1=int(input(\"\\n코카콜라를 몇 개 주문하시겠습니까? 주문하지 않으시겠다면 0개를 선택해주세요. \"))\n",
        "  if(coke1>=1):\n",
        "    coke_lastprice=0\n",
        "    for i in range(1,coke1+1):\n",
        "     coke_price1=menu1.get(\"코카콜라\")\n",
        "     coke_lastprice=coke_lastprice + coke_price1\n",
        "    print(\"현재 주문하신 이 음료수의 가격 합계는 {}원입니다.\".format(coke_lastprice))\n",
        "  else:\n",
        "    print(\"다른 음료수 주문으로 건너뜁니다.\")\n",
        "#-----------------------------\n",
        "def 코카콜라제로():\n",
        "  코카콜라제로1=int(input(\"코카콜라 제로를 몇 개 주문하시겠습니까? 주문하지 않으시겠다면 0개를 선택해주세요. \"))\n",
        "  if(코카콜라제로1>=1):\n",
        "    코카콜라제로_lastprice=0\n",
        "    for i in range(1,코카콜라제로1+1):\n",
        "     코카콜라제로_price1=menu1.get(\"코카콜라 제로\")\n",
        "     코카콜라제로_lastprice=코카콜라제로_lastprice + 코카콜라제로_price1\n",
        "    print(\"현재 주문하신 이 음료수의 가격 합계는 {}원입니다.\".format(코카콜라제로_lastprice))\n",
        "  else:\n",
        "    print(\"다른 음료수 주문으로 건너뜁니다.\")\n",
        "#-----------------------------\n",
        "def 펩시():\n",
        "  펩시1=int(input(\"펩시를 몇 개 주문하시겠습니까? 주문하지 않으시겠다면 0개를 선택해주세요. \"))\n",
        "  if(펩시1>=1):\n",
        "    펩시_lastprice=0\n",
        "    for i in range(1,펩시1+1):\n",
        "     펩시_price1=menu1.get(\"펩시콜라\")\n",
        "     펩시_lastprice=펩시_lastprice + 펩시_price1\n",
        "    print(\"현재 주문하신 이 음료수의 가격 합계는 {}원입니다.\".format(펩시_lastprice))\n",
        "  else:\n",
        "    print(\"다른 음료수 주문으로 건너뜁니다.\")\n",
        "#-----------------------------\n",
        "def 펩시제로():\n",
        "  펩시제로1=int(input(\"펩시콜라 제로를 몇 개 주문하시겠습니까? 주문하지 않으시겠다면 0개를 선택해주세요. \"))\n",
        "  if (펩시제로1>=1):\n",
        "    coke_lastprice=0\n",
        "    for i in range(1,펩시제로1+1):\n",
        "     펩시제로_price1=menu1.get(\"펩시콜라 제로\")\n",
        "     펩시제로_lastprice=coke_lastprice + 펩시제로_price1\n",
        "    print(\"현재 주문하신 이 음료수의 가격 합계는 {}원입니다.\".format(펩시제로_lastprice))\n",
        "  else:\n",
        "    print(\"다른 음료수 주문으로 건너뜁니다.\")\n",
        "#-----------------------------\n",
        "def 솔의눈():\n",
        "  솔의눈1=int(input(\"울트라수퍼두퍼솔의눈을 몇 개 주문하시겠습니까? 주문하지 않으시겠다면 0개를 선택해주세요. \"))\n",
        "  if(솔의눈1>=1):\n",
        "    솔의눈_lastprice=0\n",
        "    for i in range(1,솔의눈1+1):\n",
        "     솔의눈_price1=menu1.get(\"울트라수퍼두퍼솔의눈\")\n",
        "     솔의눈_lastprice=솔의눈_lastprice + 솔의눈_price1\n",
        "    print(\"현재 주문하신 이 음료수의 가격 합계는 {}원입니다.\".format(솔의눈_lastprice))\n",
        "  else:\n",
        "    print(\"다른 음료수 주문으로 건너뜁니다.\")\n",
        "#-----------------------------\n",
        "def 지코():\n",
        "  지코1=int(input(\"지코를 몇 개 주문하시겠습니까? 주문하지 않으시겠다면 0개를 선택해주세요. \"))\n",
        "  if(지코1>=1):\n",
        "    지코_lastprice=0\n",
        "    for i in range(1,지코1+1):\n",
        "     지코_price1=menu1.get(\"지코\")\n",
        "     지코_lastprice=지코_lastprice + 지코_price1\n",
        "    print(\"현재 주문하신 이 음료수의 가격 합계는 {}원입니다.\".format(지코_lastprice))\n",
        "  else:\n",
        "    print(\"다른 음료수 주문으로 건너뜁니다.\")\n",
        "#-----------------------------\n",
        "def 맥콜():\n",
        "  맥콜1=int(input(\"맥콜를 몇 개 주문하시겠습니까? 주문하지 않으시겠다면 0개를 선택해주세요. \"))\n",
        "  if(맥콜1>=1):\n",
        "    맥콜_lastprice=0\n",
        "    for i in range(1,맥콜1+1):\n",
        "     맥콜_price1=menu1.get(\"맥콜\")\n",
        "     맥콜_lastprice=맥콜_lastprice + 맥콜_price1\n",
        "    print(\"현재 주문하신 이 음료수의 가격 합계는 {}원입니다.\".format(맥콜_lastprice))\n",
        "  else:\n",
        "    print(\"다른 음료수 주문으로 건너뜁니다.\")\n",
        "#-----------------------------\n",
        "def 스프라이트():\n",
        "  스프라이트1=int(input(\"스프라이트를 몇 개 주문하시겠습니까? 주문하지 않으시겠다면 0개를 선택해주세요. \"))\n",
        "  if(스프라이트1>=1):\n",
        "    스프라이트_lastprice=0\n",
        "    for i in range(1,스프라이트1+1):\n",
        "     스프라이트_price1=menu1.get(\"스프라이트\")\n",
        "     스프라이트_lastprice=스프라이트_lastprice + 스프라이트_price1\n",
        "    print(\"현재 주문하신 이 음료수의 가격 합계는 {}원입니다.\\n\".format(스프라이트_lastprice))\n",
        "  else:\n",
        "    print(\"음료수의 주문이 끝났습니다.\")\n",
        "#-----------------------------\n",
        "coke()\n",
        "코카콜라제로()\n",
        "펩시()\n",
        "펩시제로()\n",
        "솔의눈()\n",
        "지코()\n",
        "맥콜()\n",
        "스프라이트()\n",
        "print(\"수정하고 싶으시다면, 아래 안내를 따라주세요.\\n코카콜라 주문 수정 : 1\\n코카콜라 제로 주문 수정 : 2\\n펩시콜라 주문 수정 : 3\\n펩시콜라 제로 주문 수정 :4\\n울트라수퍼두퍼솔의눈 주문 수정 : 5\\n지코 주문 수정 : 6\\n맥콜 주문 수정 : 7\\n스프라이트 주문 수정 : 8\\n해당사항 없음\")\n",
        "주문수정=int(input(\"희망하시는 사항 있으시다면 안내에 따른 숫자를 입력해주세요.\"))\n"
      ]
    }
  ]
}