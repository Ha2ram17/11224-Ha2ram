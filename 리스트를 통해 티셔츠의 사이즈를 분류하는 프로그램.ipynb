{
  "nbformat": 4,
  "nbformat_minor": 0,
  "metadata": {
    "colab": {
      "provenance": [],
      "authorship_tag": "ABX9TyN23posVW8d+gqw3PibZ0mr",
      "include_colab_link": true
    },
    "kernelspec": {
      "name": "python3",
      "display_name": "Python 3"
    },
    "language_info": {
      "name": "python"
    }
  },
  "cells": [
    {
      "cell_type": "markdown",
      "metadata": {
        "id": "view-in-github",
        "colab_type": "text"
      },
      "source": [
        "<a href=\"https://colab.research.google.com/github/Ha2ram17/11224-Ha2ram/blob/main/%EB%A6%AC%EC%8A%A4%ED%8A%B8%EB%A5%BC%20%ED%86%B5%ED%95%B4%20%ED%8B%B0%EC%85%94%EC%B8%A0%EC%9D%98%20%EC%82%AC%EC%9D%B4%EC%A6%88%EB%A5%BC%20%EB%B6%84%EB%A5%98%ED%95%98%EB%8A%94%20%ED%94%84%EB%A1%9C%EA%B7%B8%EB%9E%A8.ipynb\" target=\"_parent\"><img src=\"https://colab.research.google.com/assets/colab-badge.svg\" alt=\"Open In Colab\"/></a>"
      ]
    },
    {
      "cell_type": "code",
      "execution_count": null,
      "metadata": {
        "colab": {
          "base_uri": "https://localhost:8080/"
        },
        "id": "wRXnEzqBgQmn",
        "outputId": "43c5f611-8012-496c-eb2b-6eff4a486e0d"
      },
      "outputs": [
        {
          "output_type": "stream",
          "name": "stdout",
          "text": [
            "solution 함수의 반환값은 [2, 1, 1, 1, 1, 1] 입니다\n"
          ]
        }
      ],
      "source": [
        "cnt = [0,0,0,0,0,0]\n",
        "def solution(shirt_size):\n",
        " for i in shirt_size:\n",
        "   if i == \"XS\":\n",
        "    cnt[0]+=1\n",
        "   elif i == \"S\":\n",
        "    cnt[1]+=1\n",
        "   elif i == \"M\":\n",
        "    cnt[2]+=1\n",
        "   elif i == \"L\":\n",
        "    cnt[3]+=1\n",
        "   elif i == \"XL\":\n",
        "    cnt[4]+=1\n",
        "   elif i == \"XXL\":\n",
        "    cnt[5]+=1 \n",
        " return cnt\n",
        "shirt_size = [\"XS\",\"XS\",\"S\",\"M\",\"L\",\"XL\",\"XXL\"]\n",
        "ret = solution(shirt_size);\n",
        "\n",
        "print(\"solution 함수의 반환값은\",ret,\"입니다\")"
      ]
    }
  ]
}