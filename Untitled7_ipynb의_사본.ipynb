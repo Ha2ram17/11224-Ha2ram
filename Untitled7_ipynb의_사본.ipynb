{
  "nbformat": 4,
  "nbformat_minor": 0,
  "metadata": {
    "colab": {
      "provenance": [],
      "authorship_tag": "ABX9TyPydqSAFvVmnDs4lNN7sR+7",
      "include_colab_link": true
    },
    "kernelspec": {
      "name": "python3",
      "display_name": "Python 3"
    },
    "language_info": {
      "name": "python"
    }
  },
  "cells": [
    {
      "cell_type": "markdown",
      "metadata": {
        "id": "view-in-github",
        "colab_type": "text"
      },
      "source": [
        "<a href=\"https://colab.research.google.com/github/Ha2ram17/11224-Ha2ram/blob/main/Untitled7_ipynb%EC%9D%98_%EC%82%AC%EB%B3%B8.ipynb\" target=\"_parent\"><img src=\"https://colab.research.google.com/assets/colab-badge.svg\" alt=\"Open In Colab\"/></a>"
      ]
    },
    {
      "cell_type": "code",
      "execution_count": 1,
      "metadata": {
        "id": "wRXnEzqBgQmn",
        "outputId": "3657c67f-cf2d-46dd-c7c3-382c7e4db0e3",
        "colab": {
          "base_uri": "https://localhost:8080/"
        }
      },
      "outputs": [
        {
          "output_type": "stream",
          "name": "stdout",
          "text": [
            "max:7\n",
            "min:1\n"
          ]
        }
      ],
      "source": [
        "nums = [1,2,3,4,5,6,7]\n",
        "max_num = nums[0]  # nums 리스트의 첫 번째 값을 초기값으로 지정\n",
        "min_num = nums[0]  # nums 리스트의 첫 번째 값을 초기값으로 지정\n",
        "\n",
        "for i in nums:\n",
        "    if i > max_num:\n",
        "        max_num = i  # 더 큰 값을 찾으면 최댓값을 업데이트\n",
        "    if i < min_num:\n",
        "        min_num = i  # 더 작은 값을 찾으면 최솟값을 업데이트\n",
        "\n",
        "print('max:{}'.format(max_num))\n",
        "print('min:{}'.format(min_num))"
      ]
    },
    {
      "cell_type": "code",
      "source": [
        "nums = [1,2,3,4,5,6,7]\n",
        "min_nums = nums[0]\n",
        "for i in nums:\n",
        "  if i > max(nums):\n",
        "    i = nums \n",
        "for a in nums:\n",
        "  if a  >= min_nums:\n",
        "    a = min_nums\n",
        "\n",
        "print('max:{}'.format(i))\n",
        "print('min:{}'.format(a))"
      ],
      "metadata": {
        "colab": {
          "base_uri": "https://localhost:8080/"
        },
        "id": "A72Yf2BanbwM",
        "outputId": "66abbf85-e146-4861-fffc-1a0141ffb54f"
      },
      "execution_count": null,
      "outputs": [
        {
          "output_type": "stream",
          "name": "stdout",
          "text": [
            "max:7\n",
            "min:1\n"
          ]
        }
      ]
    },
    {
      "cell_type": "code",
      "source": [
        "nums = [1,2,3,4,5,6,7,]\n",
        "print(nums[::-2])"
      ],
      "metadata": {
        "colab": {
          "base_uri": "https://localhost:8080/"
        },
        "id": "v2PjThplA1vJ",
        "outputId": "4f2064ca-5827-4d2b-c39c-60b03ffb0b3a"
      },
      "execution_count": null,
      "outputs": [
        {
          "output_type": "stream",
          "name": "stdout",
          "text": [
            "[7, 5, 3, 1]\n"
          ]
        }
      ]
    },
    {
      "cell_type": "code",
      "source": [
        "inter = ['삼성전자','LG전자','naver']\n",
        "print(inter[0::2])"
      ],
      "metadata": {
        "colab": {
          "base_uri": "https://localhost:8080/"
        },
        "id": "iLO2wOS8C_kb",
        "outputId": "594c826f-5d75-46ca-b146-83d839734d32"
      },
      "execution_count": null,
      "outputs": [
        {
          "output_type": "stream",
          "name": "stdout",
          "text": [
            "['삼성전자', 'naver']\n"
          ]
        }
      ]
    },
    {
      "cell_type": "code",
      "source": [
        "movie_rank = ['닥터','스트레인지','굿']\n",
        "movie_rank.append(\"배트맨\")\n",
        "print(movie_rank)"
      ],
      "metadata": {
        "colab": {
          "base_uri": "https://localhost:8080/"
        },
        "id": "ixcBLCzbHhZa",
        "outputId": "0eb33034-4260-4771-ab56-e6edb772a62b"
      },
      "execution_count": null,
      "outputs": [
        {
          "output_type": "stream",
          "name": "stdout",
          "text": [
            "['닥터', '스트레인지', '굿', '배트맨']\n"
          ]
        }
      ]
    },
    {
      "cell_type": "code",
      "source": [
        "interest = ['1','2','3','4','5','6','7']\n",
        "print(interest[0], interest[1], interest[2], interest[3], interest[4])\n",
        "print(' '.join(interest))"
      ],
      "metadata": {
        "colab": {
          "base_uri": "https://localhost:8080/"
        },
        "id": "mJ_JAjYVW-wk",
        "outputId": "0c15cbb6-17db-4788-f214-b9753fc6d807"
      },
      "execution_count": null,
      "outputs": [
        {
          "output_type": "stream",
          "name": "stdout",
          "text": [
            "1 2 3 4 5\n",
            "1 2 3 4 5 6 7\n"
          ]
        }
      ]
    },
    {
      "cell_type": "code",
      "source": [
        "string = \"삼성전자/LG전자/Naver/SK하이닉스/미래에셋대우\"\n",
        "interest = string.split('/')\n",
        "print(interest)"
      ],
      "metadata": {
        "colab": {
          "base_uri": "https://localhost:8080/"
        },
        "id": "xict32JrLjrP",
        "outputId": "e4388019-ad17-4bcf-f282-853a77af7ef1"
      },
      "execution_count": null,
      "outputs": [
        {
          "output_type": "stream",
          "name": "stdout",
          "text": [
            "['삼성전자', 'LG전자', 'Naver', 'SK하이닉스', '미래에셋대우']\n"
          ]
        }
      ]
    }
  ]
}