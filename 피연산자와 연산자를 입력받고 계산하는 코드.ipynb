{
  "nbformat": 4,
  "nbformat_minor": 0,
  "metadata": {
    "colab": {
      "provenance": [],
      "authorship_tag": "ABX9TyO0YyzJx7tOJ5lg3PmJLK70",
      "include_colab_link": true
    },
    "kernelspec": {
      "name": "python3",
      "display_name": "Python 3"
    },
    "language_info": {
      "name": "python"
    }
  },
  "cells": [
    {
      "cell_type": "markdown",
      "metadata": {
        "id": "view-in-github",
        "colab_type": "text"
      },
      "source": [
        "<a href=\"https://colab.research.google.com/github/Ha2ram17/Ha2ram-Python/blob/main/%ED%94%BC%EC%97%B0%EC%82%B0%EC%9E%90%EC%99%80%20%EC%97%B0%EC%82%B0%EC%9E%90%EB%A5%BC%20%EC%9E%85%EB%A0%A5%EB%B0%9B%EA%B3%A0%20%EA%B3%84%EC%82%B0%ED%95%98%EB%8A%94%20%EC%BD%94%EB%93%9C.ipynb\" target=\"_parent\"><img src=\"https://colab.research.google.com/assets/colab-badge.svg\" alt=\"Open In Colab\"/></a>"
      ]
    },
    {
      "cell_type": "code",
      "execution_count": 13,
      "metadata": {
        "colab": {
          "base_uri": "https://localhost:8080/"
        },
        "id": "BZDlB30S79Ds",
        "outputId": "a77a93f5-345c-4ca2-91cf-8f86452b5067"
      },
      "outputs": [
        {
          "output_type": "stream",
          "name": "stdout",
          "text": [
            "정수를 입력해주세요 : 4\n",
            "+/-/x/%중 하나를 입력해주세요 : 5\n",
            "정수를 입력해주세요 : 5\n",
            "좀똑바로쓰라고요제발아니이게어려워요?그냥똑바로쓰면되는거잖아맞아아니야맞아아니야대답을해너잘못쓴거인정해안해인정해안해\n"
          ]
        }
      ],
      "source": [
        "a = int(input(\"정수를 입력해주세요 : \")) #정수를 입력받는 코드\n",
        "b = str(input(\"+/-/x/%중 하나를 입력해주세요 : \")) #연산자를 입력받는 코드\n",
        "c = int(input(\"정수를 입력해주세요 : \")) #정수를 입력받는 코드\n",
        "if b == \"+\": #b가 덧셈일 경우를 가정한 조건\n",
        "  print(\"{} + {} =\".format(a,c),(a+c)) # 입력받은 연산자로 계산하고 출력하는 코드\n",
        "elif b == \"-\": #b가 뺄셈일 경우를 가정한 조건\n",
        "  print(\"{} - {} =\".format(a,c),(a-c)) # 입력받은 연산자로 계산하고 출력하는 코드\n",
        "elif b ==\"x\": #b가 곱하기일 경우를 가정한 조건\n",
        "  print(\"{} x {} =\".format(a,c),(a*c)) # 입력받은 연산자로 계산하고 출력하는 코드\n",
        "elif b == \"%\": #b가 나누기일 경우를 가정한 조건\n",
        "  print(\"{} % {} =\".format(a,c),(a/c)) # 입력받은 연산자로 계산하고 출력하는 코드\n",
        "else: # 만약 b에 정해진 연산자가 아닌 다른 것을 입력했을 때.\n",
        "  print(\"좀똑바로쓰라고요제발아니이게어려워요?그냥똑바로쓰면되는거잖아맞아아니야맞아아니야대답을해너잘못쓴거인정해안해인정해안해\")"
      ]
    }
  ]
}