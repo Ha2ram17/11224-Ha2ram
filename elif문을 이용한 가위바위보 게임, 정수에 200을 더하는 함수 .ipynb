{
  "nbformat": 4,
  "nbformat_minor": 0,
  "metadata": {
    "colab": {
      "provenance": [],
      "authorship_tag": "ABX9TyPY6ka21NRYDz2krtEUa18+",
      "include_colab_link": true
    },
    "kernelspec": {
      "name": "python3",
      "display_name": "Python 3"
    },
    "language_info": {
      "name": "python"
    }
  },
  "cells": [
    {
      "cell_type": "markdown",
      "metadata": {
        "id": "view-in-github",
        "colab_type": "text"
      },
      "source": [
        "<a href=\"https://colab.research.google.com/github/Ha2ram17/11224-Ha2ram/blob/main/elif%EB%AC%B8%EC%9D%84%20%EC%9D%B4%EC%9A%A9%ED%95%9C%20%EA%B0%80%EC%9C%84%EB%B0%94%EC%9C%84%EB%B3%B4%20%EA%B2%8C%EC%9E%84%2C%20%EC%A0%95%EC%88%98%EC%97%90%20200%EC%9D%84%20%EB%8D%94%ED%95%98%EB%8A%94%20%ED%95%A8%EC%88%98%20.ipynb\" target=\"_parent\"><img src=\"https://colab.research.google.com/assets/colab-badge.svg\" alt=\"Open In Colab\"/></a>"
      ]
    },
    {
      "cell_type": "code",
      "execution_count": null,
      "metadata": {
        "id": "NFDWzqqnw32F"
      },
      "outputs": [],
      "source": [
        "a = int(input(\"정수를 입력해주세요 : \"))\n",
        "def plus(i):\n",
        " i+=200\n",
        " return i\n",
        "print(plus(a)) "
      ]
    },
    {
      "cell_type": "code",
      "source": [
        "print(\"가위바위보 게임!\")\n",
        "a = int(input(\"[A] - 가위는 1, 바위는 2, 보는 3입니다. : \"))\n",
        "b = int(input(\"[B] - 가위는 1, 바위는 2, 보는 3입니다. : \"))\n",
        "if a > 3:\n",
        "  print(\"잘못 입력하셨습니다.\")\n",
        "  a = int(input(\"다시 입력해주세요. [A] - 가위는 1, 바위는 2, 보는 3입니다. : \"))\n",
        "if b > 3:\n",
        "  print(\"잘못 입력하셨습니다.\")\n",
        "  b = int(input(\"다시 입력해주세요. [B] - 가위는 1, 바위는 2, 보는 3입니다. :\"))\n",
        "if a <= 0:\n",
        "  print(\"잘못 입력하셨습니다.\")\n",
        "  a = int(input(\"다시 입력해주세요. [A] - 가위는 1, 바위는 2, 보는 3입니다. : \"))\n",
        "if b <= 0:\n",
        "  print(\"잘못 입력하셨습니다.\")\n",
        "  b = int(input(\"다시 입력해주세요. [B] - 가위는 1, 바위는 2, 보는 3입니다. : \"))\n",
        "if a == 1:\n",
        "  if b == 2:\n",
        "    print(\"[B] Win!\")\n",
        "  elif b == 3:\n",
        "    print(\"[A] Win!\")\n",
        "  elif a == b:\n",
        "    print(\"Draw!\")\n",
        "if a == 2:\n",
        "  if b == 1:\n",
        "    print(\"[A] Win!\")\n",
        "  elif b == 3:\n",
        "    print(\"[B] Win!\")\n",
        "  elif a == b:\n",
        "    print(\"Draw!\")\n",
        "if a == 3:\n",
        "  if b == 1:\n",
        "    print(\"[B] Win!\")\n",
        "  elif b == 2:\n",
        "    print(\"[A] Win!\")\n",
        "  elif a == b:\n",
        "    print(\"Draw!\")"
      ],
      "metadata": {
        "colab": {
          "base_uri": "https://localhost:8080/"
        },
        "id": "dlVgFiwRxyME",
        "outputId": "1cce0cf5-13f4-46b5-d730-5d1cb09c6afa"
      },
      "execution_count": 34,
      "outputs": [
        {
          "output_type": "stream",
          "name": "stdout",
          "text": [
            "가위바위보 게임!\n",
            "[A] - 가위는 1, 바위는 2, 보는 3입니다. : 5\n",
            "[B] - 가위는 1, 바위는 2, 보는 3입니다. : 2\n",
            "잘못 입력하셨습니다.\n",
            "다시 입력해주세요. [A] - 가위는 1, 바위는 2, 보는 3입니다. : 3\n",
            "[A] Win!\n"
          ]
        }
      ]
    },
    {
      "cell_type": "code",
      "source": [],
      "metadata": {
        "id": "dm5AOZLp52lL"
      },
      "execution_count": null,
      "outputs": []
    }
  ]
}