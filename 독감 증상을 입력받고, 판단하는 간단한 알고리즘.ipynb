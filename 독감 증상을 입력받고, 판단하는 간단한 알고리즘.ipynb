{
  "nbformat": 4,
  "nbformat_minor": 0,
  "metadata": {
    "colab": {
      "provenance": [],
      "authorship_tag": "ABX9TyOF0V/kejuwzwwOKHQ9Auao",
      "include_colab_link": true
    },
    "kernelspec": {
      "name": "python3",
      "display_name": "Python 3"
    },
    "language_info": {
      "name": "python"
    }
  },
  "cells": [
    {
      "cell_type": "markdown",
      "metadata": {
        "id": "view-in-github",
        "colab_type": "text"
      },
      "source": [
        "<a href=\"https://colab.research.google.com/github/Ha2ram17/Ha2ram-Python/blob/main/%EB%8F%85%EA%B0%90%20%EC%A6%9D%EC%83%81%EC%9D%84%20%EC%9E%85%EB%A0%A5%EB%B0%9B%EA%B3%A0%2C%20%ED%8C%90%EB%8B%A8%ED%95%98%EB%8A%94%20%EA%B0%84%EB%8B%A8%ED%95%9C%20%EC%95%8C%EA%B3%A0%EB%A6%AC%EC%A6%98.ipynb\" target=\"_parent\"><img src=\"https://colab.research.google.com/assets/colab-badge.svg\" alt=\"Open In Colab\"/></a>"
      ]
    },
    {
      "cell_type": "code",
      "execution_count": null,
      "metadata": {
        "id": "vwhotWGLxVqZ"
      },
      "outputs": [],
      "source": [
        "a = str(input(\"기침이 있으면 Y, 없으면 N을 입력해주세요. : \"))\n",
        "b = str(input(\"체온을 입력해주세요. : \"))\n",
        "if a == Y and b >= 38.5:\n",
        "  print(\"당신은 독감일 수 있습니다.\")\n",
        "elif a == N and b <= 37.0:\n",
        "  print(\"독감 증상이 없습니다.\")\n",
        "elif a == Y and b <= 37.0:\n",
        "  print(\"독감 증상이 있습니다, 주의해야하는 단계입니다.\")"
      ]
    }
  ]
}